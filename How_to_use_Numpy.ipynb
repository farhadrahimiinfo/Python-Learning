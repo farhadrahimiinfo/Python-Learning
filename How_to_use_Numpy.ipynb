{
  "nbformat": 4,
  "nbformat_minor": 0,
  "metadata": {
    "colab": {
      "provenance": [],
      "toc_visible": true,
      "include_colab_link": true
    },
    "kernelspec": {
      "name": "python3",
      "display_name": "Python 3"
    },
    "language_info": {
      "name": "python"
    }
  },
  "cells": [
    {
      "cell_type": "markdown",
      "metadata": {
        "id": "view-in-github",
        "colab_type": "text"
      },
      "source": [
        "<a href=\"https://colab.research.google.com/github/farhadrahimiinfo/Python-Learning/blob/main/How_to_use_Numpy.ipynb\" target=\"_parent\"><img src=\"https://colab.research.google.com/assets/colab-badge.svg\" alt=\"Open In Colab\"/></a>"
      ]
    },
    {
      "cell_type": "code",
      "execution_count": null,
      "metadata": {
        "id": "OrgP1AYcCa07"
      },
      "outputs": [],
      "source": [
        "import numpy"
      ]
    },
    {
      "cell_type": "code",
      "source": [
        "MyArray=[12,34,23,24,20]"
      ],
      "metadata": {
        "id": "tKt-ro0ICo-H"
      },
      "execution_count": null,
      "outputs": []
    },
    {
      "cell_type": "code",
      "source": [
        "MyArray"
      ],
      "metadata": {
        "colab": {
          "base_uri": "https://localhost:8080/"
        },
        "id": "iT3HHwy9Cu0v",
        "outputId": "ff45f68f-dd94-4c77-bba7-761c4c926415"
      },
      "execution_count": null,
      "outputs": [
        {
          "output_type": "execute_result",
          "data": {
            "text/plain": [
              "[12, 34, 23, 24, 20]"
            ]
          },
          "metadata": {},
          "execution_count": 3
        }
      ]
    },
    {
      "cell_type": "code",
      "source": [
        "Num_Mean=numpy.mean(MyArray)\n",
        "print('Mean: ')\n",
        "print(Num_Mean)"
      ],
      "metadata": {
        "colab": {
          "base_uri": "https://localhost:8080/"
        },
        "id": "LwdlsdJiCzRZ",
        "outputId": "6c1d95f8-7c8d-4528-d83e-ab6b692a4ad6"
      },
      "execution_count": null,
      "outputs": [
        {
          "output_type": "stream",
          "name": "stdout",
          "text": [
            "Mean: \n",
            "22.6\n"
          ]
        }
      ]
    },
    {
      "cell_type": "code",
      "source": [
        "print(numpy.std(MyArray))"
      ],
      "metadata": {
        "colab": {
          "base_uri": "https://localhost:8080/"
        },
        "id": "ResKr5HkDTBe",
        "outputId": "55ead2db-f662-40eb-fa3e-58bcf1ba3932"
      },
      "execution_count": null,
      "outputs": [
        {
          "output_type": "stream",
          "name": "stdout",
          "text": [
            "7.08801805866774\n"
          ]
        }
      ]
    },
    {
      "cell_type": "code",
      "source": [
        "print(numpy.percentile(MyArray,12))"
      ],
      "metadata": {
        "colab": {
          "base_uri": "https://localhost:8080/"
        },
        "id": "SuBAz4TKDgZq",
        "outputId": "2bf1f5d7-be14-4603-ea9f-d36555cdb1e3"
      },
      "execution_count": null,
      "outputs": [
        {
          "output_type": "stream",
          "name": "stdout",
          "text": [
            "15.84\n"
          ]
        }
      ]
    },
    {
      "cell_type": "code",
      "source": [
        "#Binomial\n",
        "import numpy as objNumpy\n",
        "numberbio=objNumpy.random.binomial(8,0.5,size=5)\n",
        "print(number)"
      ],
      "metadata": {
        "colab": {
          "base_uri": "https://localhost:8080/"
        },
        "id": "KmncyEY3EGOF",
        "outputId": "c98eb95d-384e-4289-a901-d9c537636da6"
      },
      "execution_count": null,
      "outputs": [
        {
          "output_type": "stream",
          "name": "stdout",
          "text": [
            "[2 2 4 5 6]\n"
          ]
        }
      ]
    },
    {
      "cell_type": "code",
      "source": [
        "numberpos=objNumpy.random.poisson(10)\n",
        "print(numberpos)"
      ],
      "metadata": {
        "colab": {
          "base_uri": "https://localhost:8080/"
        },
        "id": "TfvlUxUqGwUR",
        "outputId": "18b078fc-0b5f-4a4d-8d4d-0b7c7055cb48"
      },
      "execution_count": null,
      "outputs": [
        {
          "output_type": "stream",
          "name": "stdout",
          "text": [
            "13\n"
          ]
        }
      ]
    },
    {
      "cell_type": "code",
      "source": [
        "numberuni=objNumpy.random.uniform(10,1,20)\n",
        "print(numberuni)\n",
        "import matplotlib.pyplot as plt\n",
        "plt.hist(numberuni)\n",
        "plt.show()"
      ],
      "metadata": {
        "colab": {
          "base_uri": "https://localhost:8080/",
          "height": 499
        },
        "id": "OyniFPzqHEJy",
        "outputId": "a0e0c8b0-0d45-4ff2-e9e5-47b6a3b60f6d"
      },
      "execution_count": null,
      "outputs": [
        {
          "output_type": "stream",
          "name": "stdout",
          "text": [
            "[9.49332765 1.77527654 8.22713211 2.20703399 4.89384253 8.87978324\n",
            " 3.66908716 7.15420408 4.24041753 7.00361671 5.07374092 6.3136884\n",
            " 1.52008918 2.53474163 3.11205784 7.78155953 5.5594747  5.03170857\n",
            " 7.99350442 9.45272591]\n"
          ]
        },
        {
          "output_type": "display_data",
          "data": {
            "text/plain": [
              "<Figure size 640x480 with 1 Axes>"
            ],
            "image/png": "[encoded data removed]"
          },
          "metadata": {}
        }
      ]
    },
    {
      "cell_type": "code",
      "source": [
        "X=[10,20,30,40,50]\n",
        "Y=[23,22,33,42,25]\n",
        "import matplotlib.pyplot as plt\n",
        "plt.scatter(X,Y)\n",
        "plt.show()"
      ],
      "metadata": {
        "colab": {
          "base_uri": "https://localhost:8080/",
          "height": 430
        },
        "id": "RAqbfoYcN-jt",
        "outputId": "a1aeccb2-7ec9-4068-d5a3-eee7a8872718"
      },
      "execution_count": null,
      "outputs": [
        {
          "output_type": "display_data",
          "data": {
            "text/plain": [
              "<Figure size 640x480 with 1 Axes>"
            ],
            "image/png": "[encoded data removed]"
          },
          "metadata": {}
        }
      ]
    },
    {
      "cell_type": "code",
      "source": [
        "from scipy import stats\n",
        "x=[5,7,8,7,2,17,2,9,4,11,12,9,6]\n",
        "y=[99,86,87,88,111,86,103,87,94,78,77,85,86]\n",
        "slope,intercept,r,p,std_err=stats.linregress(x,y)\n",
        "def myfunc(x):\n",
        "  return slope*x+intercept\n",
        "mymodel=list(map(myfunc,x))\n",
        "import matplotlib.pyplot as plt\n",
        "plt.scatter(X,Y)\n",
        "plt.plot(x,mymodel)\n",
        "plt.show()\n"
      ],
      "metadata": {
        "colab": {
          "base_uri": "https://localhost:8080/",
          "height": 430
        },
        "id": "3VTEfH7ZO0b2",
        "outputId": "d90f395d-41bc-4373-ed25-220e94a011c5"
      },
      "execution_count": null,
      "outputs": [
        {
          "output_type": "display_data",
          "data": {
            "text/plain": [
              "<Figure size 640x480 with 1 Axes>"
            ],
            "image/png": "[encoded data removed]"
          },
          "metadata": {}
        }
      ]
    }
  ]
}