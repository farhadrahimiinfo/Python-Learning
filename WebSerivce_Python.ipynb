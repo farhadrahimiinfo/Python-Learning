{
  "nbformat": 4,
  "nbformat_minor": 0,
  "metadata": {
    "colab": {
      "provenance": [],
      "authorship_tag": "ABX9TyPz5jr5YqNc90yZiJOLNiKK",
      "include_colab_link": true
    },
    "kernelspec": {
      "name": "python3",
      "display_name": "Python 3"
    },
    "language_info": {
      "name": "python"
    }
  },
  "cells": [
    {
      "cell_type": "markdown",
      "metadata": {
        "id": "view-in-github",
        "colab_type": "text"
      },
      "source": [
        "<a href=\"https://colab.research.google.com/github/farhadrahimiinfo/Python-Learning/blob/main/WebSerivce_Python.ipynb\" target=\"_parent\"><img src=\"https://colab.research.google.com/assets/colab-badge.svg\" alt=\"Open In Colab\"/></a>"
      ]
    },
    {
      "cell_type": "markdown",
      "source": [
        "# How to Create a Web Service with Python\n"
      ],
      "metadata": {
        "id": "zCGhO5HJ534a"
      }
    },
    {
      "cell_type": "code",
      "execution_count": 1,
      "metadata": {
        "colab": {
          "base_uri": "https://localhost:8080/"
        },
        "id": "1hJWyd5X52CY",
        "outputId": "a2ac40ff-8deb-49ff-ac54-08364b5a8203"
      },
      "outputs": [
        {
          "output_type": "stream",
          "name": "stdout",
          "text": [
            "Requirement already satisfied: Flask in /usr/local/lib/python3.10/dist-packages (2.2.5)\n",
            "Requirement already satisfied: Werkzeug>=2.2.2 in /usr/local/lib/python3.10/dist-packages (from Flask) (3.0.1)\n",
            "Requirement already satisfied: Jinja2>=3.0 in /usr/local/lib/python3.10/dist-packages (from Flask) (3.1.3)\n",
            "Requirement already satisfied: itsdangerous>=2.0 in /usr/local/lib/python3.10/dist-packages (from Flask) (2.1.2)\n",
            "Requirement already satisfied: click>=8.0 in /usr/local/lib/python3.10/dist-packages (from Flask) (8.1.7)\n",
            "Requirement already satisfied: MarkupSafe>=2.0 in /usr/local/lib/python3.10/dist-packages (from Jinja2>=3.0->Flask) (2.1.4)\n"
          ]
        }
      ],
      "source": [
        "!pip install Flask\n"
      ]
    },
    {
      "cell_type": "markdown",
      "source": [
        "# Creating a Flask Application"
      ],
      "metadata": {
        "id": "wLYL8cgD6BDf"
      }
    },
    {
      "cell_type": "code",
      "source": [
        "from flask import Flask\n",
        "\n",
        "app = Flask(__name__)\n",
        "\n",
        "@app.route('/')\n",
        "def hello_world():\n",
        "    return 'Hello, World!'\n",
        "\n",
        "if __name__ == '__main__':\n",
        "    app.run(debug=True)"
      ],
      "metadata": {
        "colab": {
          "base_uri": "https://localhost:8080/"
        },
        "id": "ghe31Olv6GOu",
        "outputId": "70ec638f-c451-4737-ece9-df41890aa355"
      },
      "execution_count": 2,
      "outputs": [
        {
          "output_type": "stream",
          "name": "stdout",
          "text": [
            " * Serving Flask app '__main__'\n",
            " * Debug mode: on\n"
          ]
        },
        {
          "output_type": "stream",
          "name": "stderr",
          "text": [
            "INFO:werkzeug:\u001b[31m\u001b[1mWARNING: This is a development server. Do not use it in a production deployment. Use a production WSGI server instead.\u001b[0m\n",
            " * Running on http://127.0.0.1:5000\n",
            "INFO:werkzeug:\u001b[33mPress CTRL+C to quit\u001b[0m\n",
            "INFO:werkzeug: * Restarting with stat\n"
          ]
        }
      ]
    },
    {
      "cell_type": "code",
      "source": [
        "!python app.py\n"
      ],
      "metadata": {
        "colab": {
          "base_uri": "https://localhost:8080/"
        },
        "id": "XkgjtUiq6NO7",
        "outputId": "f8cf374b-41d6-475b-94e2-758a3d265072"
      },
      "execution_count": 3,
      "outputs": [
        {
          "output_type": "stream",
          "name": "stdout",
          "text": [
            "python3: can't open file '/content/app.py': [Errno 2] No such file or directory\n"
          ]
        }
      ]
    },
    {
      "cell_type": "code",
      "source": [],
      "metadata": {
        "id": "inswXzkZ6Ubn"
      },
      "execution_count": null,
      "outputs": []
    },
    {
      "cell_type": "markdown",
      "source": [
        "# Building a Simple RESTful API\n"
      ],
      "metadata": {
        "id": "9-ku_oMf6VgG"
      }
    },
    {
      "cell_type": "code",
      "source": [
        "#Importing Required Libraries\n",
        "#1. Importing Required Libraries\n",
        "from flask import Flask, jsonify, request\n",
        "import uuid\n"
      ],
      "metadata": {
        "id": "40vk67NE6Xyr"
      },
      "execution_count": 4,
      "outputs": []
    },
    {
      "cell_type": "code",
      "source": [
        "#2. Creating Task Data\n",
        "tasks = [\n",
        "    {\n",
        "        'id': uuid.uuid4().hex,\n",
        "        'title': 'Buy groceries',\n",
        "        'description': 'Milk, Cheese, Pizza, Fruits',\n",
        "        'completed': False\n",
        "    },\n",
        "    {\n",
        "        'id': uuid.uuid4().hex,\n",
        "        'title': 'Learn Python',\n",
        "        'description': 'Learn how to create a web service with Python',\n",
        "        'completed': True\n",
        "    }\n",
        "]"
      ],
      "metadata": {
        "id": "zHEbsAXb6irq"
      },
      "execution_count": null,
      "outputs": []
    },
    {
      "cell_type": "code",
      "source": [
        "#3. Creating API Routes\n",
        "def get_tasks():\n",
        "    return jsonify({'tasks': tasks})\n",
        "\n",
        "@app.route('/tasks', methods=['POST'])\n",
        "def create_task():\n",
        "    new_task = {\n",
        "        'id': uuid.uuid4().hex,\n",
        "        'title': request.json['title'],\n",
        "        'description': request.json['description'],\n",
        "        'completed': request.json.get('completed', False)\n",
        "    }\n",
        "    tasks.append(new_task)\n",
        "    return jsonify({'task': new_task})\n",
        "\n",
        "@app.route('/tasks/<string:task_id>', methods=['GET'])\n",
        "def get_task(task_id):\n",
        "    task = [task for task in tasks if task['id'] == task_id]\n",
        "    if len(task) == 0:\n",
        "        return jsonify({'error': 'Task not found'})\n",
        "    return jsonify({'task': task[0]})\n",
        "\n",
        "@app.route('/tasks/<string:task_id>', methods=['PUT'])\n",
        "def update_task(task_id):\n",
        "    task = [task for task in tasks if task['id'] == task_id]\n",
        "    if len(task) == 0:\n",
        "        return jsonify({'error': 'Task not found'})\n",
        "    task[0]['title'] = request.json.get('title', task[0]['title'])\n",
        "    task[0]['description'] = request.json.get('description', task[0]['description'])\n",
        "    task[0]['completed'] = request.json.get('completed', task[0]['completed'])\n",
        "    return jsonify({'task': task[0]})\n",
        "\n",
        "@app.route('/tasks/<string:task_id>', methods=['DELETE'])\n",
        "def delete_task(task_id):\n",
        "    task = [task for task in tasks if task['id'] == task_id]\n",
        "    if len(task) == 0:\n",
        "        return jsonify({'error': 'Task not found'})\n",
        "    tasks.remove(task[0])\n",
        "    return jsonify({'result': 'Task deleted'})\n"
      ],
      "metadata": {
        "id": "TeDlwS1R6nUV"
      },
      "execution_count": null,
      "outputs": []
    }
  ]
}