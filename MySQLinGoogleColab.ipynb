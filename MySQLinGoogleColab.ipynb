{
  "nbformat": 4,
  "nbformat_minor": 0,
  "metadata": {
    "colab": {
      "provenance": [],
      "authorship_tag": "ABX9TyNYEpUa5MhJiYellALqmpWw",
      "include_colab_link": true
    },
    "kernelspec": {
      "name": "python3",
      "display_name": "Python 3"
    },
    "language_info": {
      "name": "python"
    }
  },
  "cells": [
    {
      "cell_type": "markdown",
      "metadata": {
        "id": "view-in-github",
        "colab_type": "text"
      },
      "source": [
        "<a href=\"https://colab.research.google.com/github/farhadrahimiinfo/Python-Learning/blob/main/MySQLinGoogleColab.ipynb\" target=\"_parent\"><img src=\"https://colab.research.google.com/assets/colab-badge.svg\" alt=\"Open In Colab\"/></a>"
      ]
    },
    {
      "cell_type": "markdown",
      "source": [
        "# MySQL in python"
      ],
      "metadata": {
        "id": "W7BZ7cr0P1-Q"
      }
    },
    {
      "cell_type": "code",
      "execution_count": 10,
      "metadata": {
        "colab": {
          "base_uri": "https://localhost:8080/"
        },
        "id": "hMAa-1MIMeq4",
        "outputId": "9b940f9c-ffda-48ed-d784-3a615934ba7d"
      },
      "outputs": [
        {
          "output_type": "stream",
          "name": "stdout",
          "text": [
            "Requirement already satisfied: mysql-connector-python in /usr/local/lib/python3.10/dist-packages (8.3.0)\n"
          ]
        }
      ],
      "source": [
        "#Preparing the Environment\n",
        "!pip install mysql-connector-python"
      ]
    },
    {
      "cell_type": "code",
      "source": [
        "#Setting Up MySQL on Google Colab\n",
        "#Although Google Colab doesn’t have MySQL pre-installed, we can set it up with a few commands:\n",
        "!apt-get -y install mysql-server\n"
      ],
      "metadata": {
        "colab": {
          "base_uri": "https://localhost:8080/"
        },
        "id": "iFFv3Lm6NWKJ",
        "outputId": "49ceca32-4c0b-4599-be1f-2e21951f0bc7"
      },
      "execution_count": 15,
      "outputs": [
        {
          "output_type": "stream",
          "name": "stdout",
          "text": [
            "Reading package lists... Done\n",
            "Building dependency tree... Done\n",
            "Reading state information... Done\n",
            "mysql-server is already the newest version (8.0.36-0ubuntu0.22.04.1).\n",
            "0 upgraded, 0 newly installed, 0 to remove and 35 not upgraded.\n"
          ]
        }
      ]
    },
    {
      "cell_type": "code",
      "source": [
        "!service mysql start\n"
      ],
      "metadata": {
        "colab": {
          "base_uri": "https://localhost:8080/"
        },
        "id": "6J4MXqJVNtKC",
        "outputId": "92a22bca-40c3-40da-9e04-763f953d009e"
      },
      "execution_count": 16,
      "outputs": [
        {
          "output_type": "stream",
          "name": "stdout",
          "text": [
            " * Starting MySQL database server mysqld\n",
            "   ...done.\n"
          ]
        }
      ]
    },
    {
      "cell_type": "code",
      "source": [
        "!mysql -u root"
      ],
      "metadata": {
        "colab": {
          "base_uri": "https://localhost:8080/"
        },
        "id": "kS-3BpGuOR0Q",
        "outputId": "686da73f-7420-49c3-f5d1-d367c1093bf1"
      },
      "execution_count": 17,
      "outputs": [
        {
          "output_type": "stream",
          "name": "stdout",
          "text": [
            "ERROR 1045 (28000): Access denied for user 'root'@'localhost' (using password: NO)\n",
            "\u0007"
          ]
        }
      ]
    },
    {
      "cell_type": "code",
      "source": [
        "!mysql -e \"ALTER USER 'root'@'localhost' IDENTIFIED WITH 'mysql_native_password' BY 'root';FLUSH PRIVILEGES;\"\n"
      ],
      "metadata": {
        "colab": {
          "base_uri": "https://localhost:8080/"
        },
        "id": "Gdln7pgXO0b7",
        "outputId": "ab288b4e-d86c-4f11-d40f-edc32789ec1b"
      },
      "execution_count": 18,
      "outputs": [
        {
          "output_type": "stream",
          "name": "stdout",
          "text": [
            "ERROR 1045 (28000): Access denied for user 'root'@'localhost' (using password: NO)\n"
          ]
        }
      ]
    },
    {
      "cell_type": "code",
      "source": [
        "#Connect to MySQL\n",
        "import mysql.connector\n",
        "\n",
        "# Create a connection to the MySQL server\n",
        "conn = mysql.connector.connect(user='root', password='root', host='localhost')\n",
        "\n",
        "# Create a cursor to interact with the MySQL server\n",
        "cursor = conn.cursor()\n"
      ],
      "metadata": {
        "id": "pNDY82FTO4VL"
      },
      "execution_count": 19,
      "outputs": []
    },
    {
      "cell_type": "code",
      "source": [
        "# Create a new database named 'library'\n",
        "cursor.execute(\"CREATE DATABASE IF NOT EXISTS library\")\n",
        "\n",
        "# Switch to the 'library' database\n",
        "cursor.execute(\"USE library\")\n",
        "\n",
        "# Create the 'books' table\n",
        "cursor.execute('''\n",
        "CREATE TABLE IF NOT EXISTS User (\n",
        "    UserId INT AUTO_INCREMENT PRIMARY KEY,\n",
        "    Name NVARCHAR(255) NOT NULL,\n",
        "    Family NVARCHAR(255) NOT NULL,\n",
        "    age INT\n",
        ")\n",
        "''')\n",
        "\n",
        "# Always remember to close the cursor and connection when done\n",
        "cursor.close()\n",
        "conn.close()"
      ],
      "metadata": {
        "id": "z4DVof4IO_Lo"
      },
      "execution_count": 20,
      "outputs": []
    },
    {
      "cell_type": "markdown",
      "source": [
        "# Populate Your Database\n",
        "\n",
        "With our table ready, let’s store some books:\n",
        "\n"
      ],
      "metadata": {
        "id": "IL2-MPV1PO0R"
      }
    },
    {
      "cell_type": "code",
      "source": [
        "import mysql.connector\n",
        "\n",
        "# Connect to the MySQL server and the 'library' database\n",
        "conn = mysql.connector.connect(user='root', password='root', host='localhost', database='library')\n",
        "cursor = conn.cursor()\n",
        "\n",
        "books_data = [\n",
        "    (\"Farhad\", \"Rahimi\", 37),\n",
        "    (\"Baran\", \"Rahimi\", 10),\n",
        "    (\"Nikan\", \"Rahimi\", 8)\n",
        "]\n",
        "\n",
        "# Insert data using the cursor\n",
        "cursor.executemany('''\n",
        "INSERT INTO User (Name, Family, age) VALUES (%s, %s, %s)\n",
        "''', books_data)\n",
        "\n",
        "# Commit the changes\n",
        "conn.commit()\n",
        "\n",
        "# Close the cursor and connection\n",
        "cursor.close()\n",
        "conn.close()\n"
      ],
      "metadata": {
        "id": "BkCq-952PIKZ"
      },
      "execution_count": 22,
      "outputs": []
    },
    {
      "cell_type": "markdown",
      "source": [
        "# Fetch Data\n",
        "\n"
      ],
      "metadata": {
        "id": "tvWoOrOQPZkV"
      }
    },
    {
      "cell_type": "code",
      "source": [
        "import mysql.connector\n",
        "\n",
        "# Connect to the MySQL server and the 'library' database\n",
        "conn = mysql.connector.connect(user='root', password='root', host='localhost', database='library')\n",
        "cursor = conn.cursor()\n",
        "\n",
        "# Execute the SELECT query\n",
        "cursor.execute(\"SELECT * FROM User\")\n",
        "\n",
        "# Fetch all the results\n",
        "records = cursor.fetchall()\n",
        "\n",
        "# Print the records\n",
        "for record in records:\n",
        "    print(record)\n",
        "\n",
        "# Close the cursor and connection\n",
        "cursor.close()\n",
        "conn.close()"
      ],
      "metadata": {
        "colab": {
          "base_uri": "https://localhost:8080/"
        },
        "id": "VlUhjZTKPdhA",
        "outputId": "a71d3270-2d0b-433a-d62a-96e0df061e0a"
      },
      "execution_count": 24,
      "outputs": [
        {
          "output_type": "stream",
          "name": "stdout",
          "text": [
            "(1, 'Farhad', 'Rahimi', 37)\n",
            "(2, 'Baran', 'Rahimi', 10)\n",
            "(3, 'Nikan', 'Rahimi', 8)\n"
          ]
        }
      ]
    },
    {
      "cell_type": "code",
      "source": [
        "import  mysql.connector\n",
        "\n",
        "# Connect to the MySQL server and the 'library' database\n",
        "conn = mysql.connector.connect(user='root', password='root', host='localhost', database='library')\n",
        "cursor = conn.cursor()\n",
        "cursor.execute(\"SELECT * FROM User WHERE age < 12\")\n",
        "classics = cursor.fetchall()"
      ],
      "metadata": {
        "id": "0sb2pn9lPjyu"
      },
      "execution_count": 25,
      "outputs": []
    },
    {
      "cell_type": "code",
      "source": [
        "#After your voyage, always remember to dock safely:\n",
        "\n",
        "\n",
        "cursor.close()\n",
        "conn.close()"
      ],
      "metadata": {
        "id": "M1iRAXn9PswR"
      },
      "execution_count": 26,
      "outputs": []
    }
  ]
}