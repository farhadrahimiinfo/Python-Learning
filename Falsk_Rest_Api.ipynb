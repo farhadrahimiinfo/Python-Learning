{
  "nbformat": 4,
  "nbformat_minor": 0,
  "metadata": {
    "colab": {
      "provenance": [],
      "authorship_tag": "ABX9TyN3evP4sKvtrwWRpIVH7D+7",
      "include_colab_link": true
    },
    "kernelspec": {
      "name": "python3",
      "display_name": "Python 3"
    },
    "language_info": {
      "name": "python"
    }
  },
  "cells": [
    {
      "cell_type": "markdown",
      "metadata": {
        "id": "view-in-github",
        "colab_type": "text"
      },
      "source": [
        "<a href=\"https://colab.research.google.com/github/farhadrahimiinfo/Python-Learning/blob/main/Falsk_Rest_Api.ipynb\" target=\"_parent\"><img src=\"https://colab.research.google.com/assets/colab-badge.svg\" alt=\"Open In Colab\"/></a>"
      ]
    },
    {
      "cell_type": "markdown",
      "source": [
        "# How to Create a Web Service with Python\n"
      ],
      "metadata": {
        "id": "yqFgrRcozofA"
      }
    },
    {
      "cell_type": "code",
      "execution_count": 1,
      "metadata": {
        "colab": {
          "base_uri": "https://localhost:8080/"
        },
        "id": "AC1ilrZDy6aY",
        "outputId": "1f37dcd4-ad4b-45d3-ae74-64ff7292052b"
      },
      "outputs": [
        {
          "output_type": "stream",
          "name": "stdout",
          "text": [
            "Requirement already satisfied: Flask in /usr/local/lib/python3.10/dist-packages (2.2.5)\n",
            "Requirement already satisfied: Werkzeug>=2.2.2 in /usr/local/lib/python3.10/dist-packages (from Flask) (3.0.1)\n",
            "Requirement already satisfied: Jinja2>=3.0 in /usr/local/lib/python3.10/dist-packages (from Flask) (3.1.3)\n",
            "Requirement already satisfied: itsdangerous>=2.0 in /usr/local/lib/python3.10/dist-packages (from Flask) (2.1.2)\n",
            "Requirement already satisfied: click>=8.0 in /usr/local/lib/python3.10/dist-packages (from Flask) (8.1.7)\n",
            "Requirement already satisfied: MarkupSafe>=2.0 in /usr/local/lib/python3.10/dist-packages (from Jinja2>=3.0->Flask) (2.1.4)\n"
          ]
        }
      ],
      "source": [
        "!pip install Flask"
      ]
    },
    {
      "cell_type": "code",
      "source": [
        "from flask import Flask\n",
        "\n",
        "app = Flask(__name__)\n",
        "\n",
        "@app.route('/',methods=[\"Get\",\"Post\"])\n",
        "def hello_world():\n",
        "    return 'Hello, World!'\n",
        "\n",
        "@app.route('/name',methods=[\"Get\"])\n",
        "def GetName():\n",
        "  return \"Hello Farhad\"\n",
        "\n",
        "if __name__ == '__main__':\n",
        "    app.run(debug=True)"
      ],
      "metadata": {
        "colab": {
          "base_uri": "https://localhost:8080/"
        },
        "id": "aciLtOYOzu-3",
        "outputId": "3a62065f-f133-4222-d7c2-a15c56c6e0e9"
      },
      "execution_count": 3,
      "outputs": [
        {
          "output_type": "stream",
          "name": "stdout",
          "text": [
            " * Serving Flask app '__main__'\n",
            " * Debug mode: on\n"
          ]
        },
        {
          "output_type": "stream",
          "name": "stderr",
          "text": [
            "INFO:werkzeug:\u001b[31m\u001b[1mWARNING: This is a development server. Do not use it in a production deployment. Use a production WSGI server instead.\u001b[0m\n",
            " * Running on http://127.0.0.1:5000\n",
            "INFO:werkzeug:\u001b[33mPress CTRL+C to quit\u001b[0m\n",
            "INFO:werkzeug: * Restarting with stat\n"
          ]
        }
      ]
    },
    {
      "cell_type": "code",
      "source": [
        "#Dynamic Pararmeters part1\n",
        "from flask import Flask\n",
        "\n",
        "app = Flask(__name__)\n",
        "\n",
        "@app.route('/',methods=[\"Get\",\"Post\"])\n",
        "def hello_world():\n",
        "    return 'Hello, World!'\n",
        "\n",
        "@app.route('/name/<name>',methods=[\"Get\"])\n",
        "def GetName(name):\n",
        "  return f\"Hello {name}\"\n",
        "\n",
        "if __name__ == '__main__':\n",
        "    app.run(debug=True)"
      ],
      "metadata": {
        "id": "cE4EPAvI2P2a"
      },
      "execution_count": null,
      "outputs": []
    },
    {
      "cell_type": "code",
      "source": [
        "#Dynamic Pararmeters part 2\n",
        "from flask import Flask,request\n",
        "\n",
        "app = Flask(__name__)\n",
        "\n",
        "@app.route('/',methods=[\"Get\",\"Post\"])\n",
        "def hello_world():\n",
        "    return 'Hello, World!'\n",
        "\n",
        "@app.route('/name/<name>',methods=[\"Get\"])\n",
        "def GetName(name):\n",
        "  fname=request.args.get(\"fanme\",\"fanme no there\")\n",
        "  lname=request.args.get(\"fanme\",\"fanme no there\")\n",
        "  return f\"Hello {fname} - {lname}\"\n",
        "\n",
        "if __name__ == '__main__':\n",
        "    app.run(debug=True)\n",
        "\n",
        "#call web serivce:  127.0.0.1:5000:/fname=Farhad&lname=Rahimi"
      ],
      "metadata": {
        "id": "flnWTxBD4OI_"
      },
      "execution_count": null,
      "outputs": []
    },
    {
      "cell_type": "code",
      "source": [
        "#Dynamic Pararmeters part 3\n",
        "#Json\n",
        "from flask import Flask,request,jsonify\n",
        "\n",
        "app = Flask(__name__)\n",
        "\n",
        "@app.route('/',methods=[\"Get\",\"Post\"])\n",
        "def hello_world():\n",
        "    return 'Hello, World!'\n",
        "\n",
        "@app.route('/name/<name>',methods=[\"Get\"])\n",
        "def GetName(name):\n",
        "  fname=request.args.get(\"fanme\",\"fanme no there\")\n",
        "  lname=request.args.get(\"fanme\",\"fanme no there\")\n",
        "  # dictionary create\n",
        "  MyDic={\"Fname:\":fname,\"Lname:\":lname}\n",
        "  return jsonify(MyDic)\n",
        "\n",
        "if __name__ == '__main__':\n",
        "    app.run(debug=True)\n",
        "\n",
        "#call web serivce:  127.0.0.1:5000:/fname=Farhad&lname=Rahimi"
      ],
      "metadata": {
        "id": "Tk4l05k28ejM"
      },
      "execution_count": null,
      "outputs": []
    },
    {
      "cell_type": "code",
      "source": [],
      "metadata": {
        "id": "1srdk2ssAZzY"
      },
      "execution_count": null,
      "outputs": []
    },
    {
      "cell_type": "code",
      "source": [
        "#Dynamic Pararmeters part 4\n",
        "\n",
        "from flask import Flask,request,jsonify\n",
        "\n",
        "app = Flask(__name__)\n",
        "\n",
        "def add(a,b):\n",
        "    return a+b\n",
        "\n",
        "@app.route(\"/cal\",methods=['POST'])\n",
        "def cal():\n",
        "    obj = request.get_data()\n",
        "    obj = json.loads(obj)\n",
        "    a = int(obj.get('a',0))\n",
        "    b = int(obj.get('b',0))\n",
        "    method = obj.get('method','add')\n",
        "    if method=='add': c= add(a,b)\n",
        "    if method=='sub': c=  a-b\n",
        "    output = {\"method\":method,'a':a,'b':b,'result':c}\n",
        "    return output\n",
        "\n",
        "if __name__ == '__main__':\n",
        "    app.run(debug=True)\n",
        "\n",
        "#call web serivce:  127.0.0.1:5000:/fname=Farhad&lname=Rahimi"
      ],
      "metadata": {
        "id": "97l_WtU8-Zs6"
      },
      "execution_count": null,
      "outputs": []
    },
    {
      "cell_type": "code",
      "source": [
        "#Flask_basic to Swagger\n",
        "from flask import Flask,request,jsonify,Blueprint\n",
        "import json\n",
        "from flask_restplus import Api,fields,reqparse,Resource,Namespace\n",
        "\n",
        "app =  Flask(__name__)\n",
        "\n",
        "\n",
        "api = Api(app,version='1.0',title='Api Trail',description='Api Free Version or practice')\n",
        "\n",
        "upload_parser = api.parser()\n",
        "upload_parser.add_argument(\"a\",type=int,help='a varible is a type of int',required=True)\n",
        "upload_parser.add_argument(\"b\",type=int,help='b varible is a type of int',required=False)\n",
        "\n",
        "\n",
        "\n",
        "@api.route('/app/')\n",
        "@api.doc(responses={ 200: 'OK', 404: 'Not able to post',502:\"Server error\"})\n",
        "@api.expect(upload_parser)\n",
        "class Asset(Resource):\n",
        "    def post(self):\n",
        "        obj  = upload_parser.parse_args()\n",
        "        a = int(obj.get('a'))\n",
        "        return {\"result\":a**2,\"method\":\"POST\"}\n",
        "\n",
        "    def get(self):\n",
        "        obj  = upload_parser.parse_args()\n",
        "        a = int(obj.get('a'))\n",
        "        return {\"result\":a**2,\"method\":\"GET\"}\n",
        "\n",
        "    def delete(self):\n",
        "        obj  = upload_parser.parse_args()\n",
        "        a = int(obj.get('a'))\n",
        "        return {\"result\":a**5,\"method\":\"DELETE\"}\n",
        "if __name__==\"__main__\":\n",
        "    app.run(debug=True,port=5000)"
      ],
      "metadata": {
        "id": "fWCYBepBAf7-"
      },
      "execution_count": null,
      "outputs": []
    }
  ]
}